{
 "cells": [
  {
   "cell_type": "markdown",
   "metadata": {},
   "source": [
    "# Cheap Winning team for 1985:\n",
    "              \n",
    "              \n",
    "### Catcher: Mark Salas 60000 0.332461\t\n",
    "### First Base: Glenn Davis\t60000 0.332474\n",
    "### Second Base: Tim Teufel\t110000 0.335378\n",
    "### Short Stop: Spike Owen 114400 0.322165\t\n",
    "### Third Base: Chris Brown 60000 0.345114\n",
    "### Left Field: Joe Orsulak 60000 0.341920\n",
    "### Center Field: Vince Coleman 60000 0.320233\t\n",
    "### Right Field: Glenn Davis 60000 0.332474\t\n",
    "### Pitchers:  they don't seem to hit\n"
   ]
  },
  {
   "cell_type": "code",
   "execution_count": 231,
   "metadata": {
    "collapsed": false
   },
   "outputs": [],
   "source": [
    "import pandas as pd\n",
    "import scipy as sp"
   ]
  },
  {
   "cell_type": "code",
   "execution_count": 232,
   "metadata": {
    "collapsed": false
   },
   "outputs": [],
   "source": [
    "appearances = pd.read_csv(\"data/Appearances.csv\")\n",
    "batting = pd.read_csv(\"data/Batting.csv\")\n",
    "master = pd.read_csv(\"data/Master.csv\")\n",
    "salaries = pd.read_csv(\"data/Salaries.csv\")"
   ]
  },
  {
   "cell_type": "code",
   "execution_count": 233,
   "metadata": {
    "collapsed": false
   },
   "outputs": [
    {
     "data": {
      "text/html": [
       "<div>\n",
       "<table border=\"1\" class=\"dataframe\">\n",
       "  <thead>\n",
       "    <tr style=\"text-align: right;\">\n",
       "      <th></th>\n",
       "      <th>playerID</th>\n",
       "      <th>H</th>\n",
       "      <th>AB</th>\n",
       "      <th>BB</th>\n",
       "      <th>HBP</th>\n",
       "      <th>SF</th>\n",
       "      <th>yearID</th>\n",
       "    </tr>\n",
       "  </thead>\n",
       "  <tbody>\n",
       "    <tr>\n",
       "      <th>62238</th>\n",
       "      <td>abregjo01</td>\n",
       "      <td>0</td>\n",
       "      <td>9</td>\n",
       "      <td>0</td>\n",
       "      <td>0</td>\n",
       "      <td>0</td>\n",
       "      <td>1985</td>\n",
       "    </tr>\n",
       "    <tr>\n",
       "      <th>62240</th>\n",
       "      <td>adamsri02</td>\n",
       "      <td>23</td>\n",
       "      <td>121</td>\n",
       "      <td>5</td>\n",
       "      <td>1</td>\n",
       "      <td>0</td>\n",
       "      <td>1985</td>\n",
       "    </tr>\n",
       "    <tr>\n",
       "      <th>62241</th>\n",
       "      <td>agostju01</td>\n",
       "      <td>0</td>\n",
       "      <td>0</td>\n",
       "      <td>0</td>\n",
       "      <td>0</td>\n",
       "      <td>0</td>\n",
       "      <td>1985</td>\n",
       "    </tr>\n",
       "    <tr>\n",
       "      <th>62242</th>\n",
       "      <td>aguaylu01</td>\n",
       "      <td>46</td>\n",
       "      <td>165</td>\n",
       "      <td>22</td>\n",
       "      <td>6</td>\n",
       "      <td>3</td>\n",
       "      <td>1985</td>\n",
       "    </tr>\n",
       "    <tr>\n",
       "      <th>62243</th>\n",
       "      <td>aguilri01</td>\n",
       "      <td>10</td>\n",
       "      <td>36</td>\n",
       "      <td>1</td>\n",
       "      <td>0</td>\n",
       "      <td>0</td>\n",
       "      <td>1985</td>\n",
       "    </tr>\n",
       "  </tbody>\n",
       "</table>\n",
       "</div>"
      ],
      "text/plain": [
       "        playerID   H   AB  BB  HBP  SF  yearID\n",
       "62238  abregjo01   0    9   0    0   0    1985\n",
       "62240  adamsri02  23  121   5    1   0    1985\n",
       "62241  agostju01   0    0   0    0   0    1985\n",
       "62242  aguaylu01  46  165  22    6   3    1985\n",
       "62243  aguilri01  10   36   1    0   0    1985"
      ]
     },
     "execution_count": 233,
     "metadata": {},
     "output_type": "execute_result"
    }
   ],
   "source": [
    "bat1 = batting[batting['yearID'] == 1985]\n",
    "bat1 = bat1[['playerID','H','AB','BB','HBP','SF', 'yearID']]\n",
    "bat1 = bat1.dropna()\n",
    "bat1.head()"
   ]
  },
  {
   "cell_type": "code",
   "execution_count": 234,
   "metadata": {
    "collapsed": false
   },
   "outputs": [],
   "source": [
    "bat1[\"OBP\"] = \"\"\n",
    "bat1['OBP'] = (bat1.H + bat1.BB + bat1.HBP) / (bat1.AB + bat1.BB + bat1.HBP + bat1.SF)\n",
    "bat2 = bat1.dropna()"
   ]
  },
  {
   "cell_type": "code",
   "execution_count": 235,
   "metadata": {
    "collapsed": false
   },
   "outputs": [
    {
     "data": {
      "text/html": [
       "<div>\n",
       "<table border=\"1\" class=\"dataframe\">\n",
       "  <thead>\n",
       "    <tr style=\"text-align: right;\">\n",
       "      <th></th>\n",
       "      <th>playerID</th>\n",
       "      <th>H</th>\n",
       "      <th>AB</th>\n",
       "      <th>BB</th>\n",
       "      <th>HBP</th>\n",
       "      <th>SF</th>\n",
       "      <th>yearID</th>\n",
       "      <th>OBP</th>\n",
       "    </tr>\n",
       "  </thead>\n",
       "  <tbody>\n",
       "    <tr>\n",
       "      <th>62238</th>\n",
       "      <td>abregjo01</td>\n",
       "      <td>0</td>\n",
       "      <td>9</td>\n",
       "      <td>0</td>\n",
       "      <td>0</td>\n",
       "      <td>0</td>\n",
       "      <td>1985</td>\n",
       "      <td>0.000000</td>\n",
       "    </tr>\n",
       "    <tr>\n",
       "      <th>62240</th>\n",
       "      <td>adamsri02</td>\n",
       "      <td>23</td>\n",
       "      <td>121</td>\n",
       "      <td>5</td>\n",
       "      <td>1</td>\n",
       "      <td>0</td>\n",
       "      <td>1985</td>\n",
       "      <td>0.228346</td>\n",
       "    </tr>\n",
       "    <tr>\n",
       "      <th>62242</th>\n",
       "      <td>aguaylu01</td>\n",
       "      <td>46</td>\n",
       "      <td>165</td>\n",
       "      <td>22</td>\n",
       "      <td>6</td>\n",
       "      <td>3</td>\n",
       "      <td>1985</td>\n",
       "      <td>0.377551</td>\n",
       "    </tr>\n",
       "    <tr>\n",
       "      <th>62243</th>\n",
       "      <td>aguilri01</td>\n",
       "      <td>10</td>\n",
       "      <td>36</td>\n",
       "      <td>1</td>\n",
       "      <td>0</td>\n",
       "      <td>0</td>\n",
       "      <td>1985</td>\n",
       "      <td>0.297297</td>\n",
       "    </tr>\n",
       "    <tr>\n",
       "      <th>62244</th>\n",
       "      <td>aikenwi01</td>\n",
       "      <td>4</td>\n",
       "      <td>20</td>\n",
       "      <td>3</td>\n",
       "      <td>0</td>\n",
       "      <td>1</td>\n",
       "      <td>1985</td>\n",
       "      <td>0.291667</td>\n",
       "    </tr>\n",
       "  </tbody>\n",
       "</table>\n",
       "</div>"
      ],
      "text/plain": [
       "        playerID   H   AB  BB  HBP  SF  yearID       OBP\n",
       "62238  abregjo01   0    9   0    0   0    1985  0.000000\n",
       "62240  adamsri02  23  121   5    1   0    1985  0.228346\n",
       "62242  aguaylu01  46  165  22    6   3    1985  0.377551\n",
       "62243  aguilri01  10   36   1    0   0    1985  0.297297\n",
       "62244  aikenwi01   4   20   3    0   1    1985  0.291667"
      ]
     },
     "execution_count": 235,
     "metadata": {},
     "output_type": "execute_result"
    }
   ],
   "source": [
    "bat2.head()"
   ]
  },
  {
   "cell_type": "code",
   "execution_count": 236,
   "metadata": {
    "collapsed": false
   },
   "outputs": [
    {
     "data": {
      "text/html": [
       "<div>\n",
       "<table border=\"1\" class=\"dataframe\">\n",
       "  <thead>\n",
       "    <tr style=\"text-align: right;\">\n",
       "      <th></th>\n",
       "      <th>playerID</th>\n",
       "      <th>H</th>\n",
       "      <th>AB</th>\n",
       "      <th>BB</th>\n",
       "      <th>HBP</th>\n",
       "      <th>SF</th>\n",
       "      <th>yearID</th>\n",
       "      <th>OBP</th>\n",
       "    </tr>\n",
       "  </thead>\n",
       "  <tbody>\n",
       "    <tr>\n",
       "      <th>62242</th>\n",
       "      <td>aguaylu01</td>\n",
       "      <td>46</td>\n",
       "      <td>165</td>\n",
       "      <td>22</td>\n",
       "      <td>6</td>\n",
       "      <td>3</td>\n",
       "      <td>1985</td>\n",
       "      <td>0.377551</td>\n",
       "    </tr>\n",
       "    <tr>\n",
       "      <th>62249</th>\n",
       "      <td>almonbi01</td>\n",
       "      <td>66</td>\n",
       "      <td>244</td>\n",
       "      <td>22</td>\n",
       "      <td>1</td>\n",
       "      <td>3</td>\n",
       "      <td>1985</td>\n",
       "      <td>0.329630</td>\n",
       "    </tr>\n",
       "    <tr>\n",
       "      <th>62250</th>\n",
       "      <td>anderda02</td>\n",
       "      <td>44</td>\n",
       "      <td>221</td>\n",
       "      <td>35</td>\n",
       "      <td>1</td>\n",
       "      <td>1</td>\n",
       "      <td>1985</td>\n",
       "      <td>0.310078</td>\n",
       "    </tr>\n",
       "    <tr>\n",
       "      <th>62255</th>\n",
       "      <td>ashbyal01</td>\n",
       "      <td>53</td>\n",
       "      <td>189</td>\n",
       "      <td>24</td>\n",
       "      <td>1</td>\n",
       "      <td>1</td>\n",
       "      <td>1985</td>\n",
       "      <td>0.362791</td>\n",
       "    </tr>\n",
       "    <tr>\n",
       "      <th>62258</th>\n",
       "      <td>backmwa01</td>\n",
       "      <td>142</td>\n",
       "      <td>520</td>\n",
       "      <td>36</td>\n",
       "      <td>1</td>\n",
       "      <td>3</td>\n",
       "      <td>1985</td>\n",
       "      <td>0.319643</td>\n",
       "    </tr>\n",
       "  </tbody>\n",
       "</table>\n",
       "</div>"
      ],
      "text/plain": [
       "        playerID    H   AB  BB  HBP  SF  yearID       OBP\n",
       "62242  aguaylu01   46  165  22    6   3    1985  0.377551\n",
       "62249  almonbi01   66  244  22    1   3    1985  0.329630\n",
       "62250  anderda02   44  221  35    1   1    1985  0.310078\n",
       "62255  ashbyal01   53  189  24    1   1    1985  0.362791\n",
       "62258  backmwa01  142  520  36    1   3    1985  0.319643"
      ]
     },
     "execution_count": 236,
     "metadata": {},
     "output_type": "execute_result"
    }
   ],
   "source": [
    "#this removes the outliers with a high percent due to few times at bat as well as removing poorer players from the mix\n",
    "bat3 = bat2[(bat2.OBP >= .3) & (bat2.AB > 50)]  \n",
    "bat3.head()"
   ]
  },
  {
   "cell_type": "code",
   "execution_count": 237,
   "metadata": {
    "collapsed": false
   },
   "outputs": [],
   "source": [
    "appearances = appearances[['playerID', 'G_p', 'G_c', 'G_1b', 'G_2b', 'G_3b', 'G_ss', 'G_lf', 'G_cf', 'G_rf', 'yearID']]\n",
    "appearances = appearances[appearances['yearID'] == 1985]\n",
    "app1 = bat3.merge(appearances, on='playerID')"
   ]
  },
  {
   "cell_type": "code",
   "execution_count": 238,
   "metadata": {
    "collapsed": false
   },
   "outputs": [],
   "source": [
    "salaries = salaries[salaries['yearID'] == 1985]\n",
    "salaries = salaries[['playerID', 'salary', 'yearID']]\n"
   ]
  },
  {
   "cell_type": "code",
   "execution_count": 239,
   "metadata": {
    "collapsed": false
   },
   "outputs": [
    {
     "data": {
      "text/html": [
       "<div>\n",
       "<table border=\"1\" class=\"dataframe\">\n",
       "  <thead>\n",
       "    <tr style=\"text-align: right;\">\n",
       "      <th></th>\n",
       "      <th>playerID</th>\n",
       "      <th>salary</th>\n",
       "      <th>yearID</th>\n",
       "    </tr>\n",
       "  </thead>\n",
       "  <tbody>\n",
       "    <tr>\n",
       "      <th>0</th>\n",
       "      <td>barkele01</td>\n",
       "      <td>870000</td>\n",
       "      <td>1985</td>\n",
       "    </tr>\n",
       "    <tr>\n",
       "      <th>1</th>\n",
       "      <td>bedrost01</td>\n",
       "      <td>550000</td>\n",
       "      <td>1985</td>\n",
       "    </tr>\n",
       "    <tr>\n",
       "      <th>2</th>\n",
       "      <td>benedbr01</td>\n",
       "      <td>545000</td>\n",
       "      <td>1985</td>\n",
       "    </tr>\n",
       "    <tr>\n",
       "      <th>3</th>\n",
       "      <td>campri01</td>\n",
       "      <td>633333</td>\n",
       "      <td>1985</td>\n",
       "    </tr>\n",
       "    <tr>\n",
       "      <th>4</th>\n",
       "      <td>ceronri01</td>\n",
       "      <td>625000</td>\n",
       "      <td>1985</td>\n",
       "    </tr>\n",
       "  </tbody>\n",
       "</table>\n",
       "</div>"
      ],
      "text/plain": [
       "    playerID  salary  yearID\n",
       "0  barkele01  870000    1985\n",
       "1  bedrost01  550000    1985\n",
       "2  benedbr01  545000    1985\n",
       "3   campri01  633333    1985\n",
       "4  ceronri01  625000    1985"
      ]
     },
     "execution_count": 239,
     "metadata": {},
     "output_type": "execute_result"
    }
   ],
   "source": [
    "salaries.head()"
   ]
  },
  {
   "cell_type": "code",
   "execution_count": 240,
   "metadata": {
    "collapsed": true
   },
   "outputs": [],
   "source": [
    "master = master[['playerID', 'nameFirst', 'nameLast']]\n",
    "salname = salaries.merge(master, on='playerID')\n",
    "salname1 = salname[['playerID', 'salary', 'nameFirst', 'nameLast']]"
   ]
  },
  {
   "cell_type": "code",
   "execution_count": 241,
   "metadata": {
    "collapsed": false,
    "scrolled": true
   },
   "outputs": [],
   "source": [
    "df = salname1.merge(app1, on='playerID')"
   ]
  },
  {
   "cell_type": "code",
   "execution_count": 242,
   "metadata": {
    "collapsed": false
   },
   "outputs": [],
   "source": [
    "df1 = df[['nameFirst', 'nameLast', 'OBP', 'salary', 'G_p', 'G_c', 'G_1b', 'G_2b', 'G_3b', 'G_ss', 'G_lf', 'G_cf', 'G_rf', 'yearID_x']]"
   ]
  },
  {
   "cell_type": "code",
   "execution_count": 243,
   "metadata": {
    "collapsed": false
   },
   "outputs": [
    {
     "data": {
      "text/html": [
       "<div>\n",
       "<table border=\"1\" class=\"dataframe\">\n",
       "  <thead>\n",
       "    <tr style=\"text-align: right;\">\n",
       "      <th></th>\n",
       "      <th>nameFirst</th>\n",
       "      <th>nameLast</th>\n",
       "      <th>salary</th>\n",
       "      <th>OBP</th>\n",
       "      <th>G_c</th>\n",
       "    </tr>\n",
       "  </thead>\n",
       "  <tbody>\n",
       "    <tr>\n",
       "      <th>172</th>\n",
       "      <td>Alan</td>\n",
       "      <td>Knicely</td>\n",
       "      <td>60000</td>\n",
       "      <td>0.322034</td>\n",
       "      <td>46</td>\n",
       "    </tr>\n",
       "    <tr>\n",
       "      <th>122</th>\n",
       "      <td>Mark</td>\n",
       "      <td>Salas</td>\n",
       "      <td>60000</td>\n",
       "      <td>0.332461</td>\n",
       "      <td>115</td>\n",
       "    </tr>\n",
       "    <tr>\n",
       "      <th>14</th>\n",
       "      <td>Floyd</td>\n",
       "      <td>Rayford</td>\n",
       "      <td>128500</td>\n",
       "      <td>0.324324</td>\n",
       "      <td>29</td>\n",
       "    </tr>\n",
       "    <tr>\n",
       "      <th>117</th>\n",
       "      <td>Dave</td>\n",
       "      <td>Engle</td>\n",
       "      <td>215000</td>\n",
       "      <td>0.333333</td>\n",
       "      <td>17</td>\n",
       "    </tr>\n",
       "    <tr>\n",
       "      <th>243</th>\n",
       "      <td>Don</td>\n",
       "      <td>Slaught</td>\n",
       "      <td>215000</td>\n",
       "      <td>0.330623</td>\n",
       "      <td>102</td>\n",
       "    </tr>\n",
       "  </tbody>\n",
       "</table>\n",
       "</div>"
      ],
      "text/plain": [
       "    nameFirst nameLast  salary       OBP  G_c\n",
       "172      Alan  Knicely   60000  0.322034   46\n",
       "122      Mark    Salas   60000  0.332461  115\n",
       "14      Floyd  Rayford  128500  0.324324   29\n",
       "117      Dave    Engle  215000  0.333333   17\n",
       "243       Don  Slaught  215000  0.330623  102"
      ]
     },
     "execution_count": 243,
     "metadata": {},
     "output_type": "execute_result"
    }
   ],
   "source": [
    "dfcatcher = df1[['nameFirst', 'nameLast', 'salary', 'OBP', 'G_c']]\n",
    "dfcatcher = dfcatcher[dfcatcher['G_c'] > 0]\n",
    "dfcatcher.sort('salary').head()"
   ]
  },
  {
   "cell_type": "code",
   "execution_count": 244,
   "metadata": {
    "collapsed": false
   },
   "outputs": [
    {
     "data": {
      "text/html": [
       "<div>\n",
       "<table border=\"1\" class=\"dataframe\">\n",
       "  <thead>\n",
       "    <tr style=\"text-align: right;\">\n",
       "      <th></th>\n",
       "      <th>nameFirst</th>\n",
       "      <th>nameLast</th>\n",
       "      <th>salary</th>\n",
       "      <th>OBP</th>\n",
       "      <th>G_1b</th>\n",
       "    </tr>\n",
       "  </thead>\n",
       "  <tbody>\n",
       "    <tr>\n",
       "      <th>17</th>\n",
       "      <td>Larry</td>\n",
       "      <td>Sheets</td>\n",
       "      <td>60000</td>\n",
       "      <td>0.323120</td>\n",
       "      <td>1</td>\n",
       "    </tr>\n",
       "    <tr>\n",
       "      <th>173</th>\n",
       "      <td>Alan</td>\n",
       "      <td>Knicely</td>\n",
       "      <td>60000</td>\n",
       "      <td>0.322034</td>\n",
       "      <td>1</td>\n",
       "    </tr>\n",
       "    <tr>\n",
       "      <th>94</th>\n",
       "      <td>Glenn</td>\n",
       "      <td>Davis</td>\n",
       "      <td>60000</td>\n",
       "      <td>0.332474</td>\n",
       "      <td>89</td>\n",
       "    </tr>\n",
       "    <tr>\n",
       "      <th>116</th>\n",
       "      <td>Randy</td>\n",
       "      <td>Bush</td>\n",
       "      <td>120000</td>\n",
       "      <td>0.320755</td>\n",
       "      <td>1</td>\n",
       "    </tr>\n",
       "    <tr>\n",
       "      <th>39</th>\n",
       "      <td>Daryl</td>\n",
       "      <td>Sconiers</td>\n",
       "      <td>130000</td>\n",
       "      <td>0.370690</td>\n",
       "      <td>6</td>\n",
       "    </tr>\n",
       "  </tbody>\n",
       "</table>\n",
       "</div>"
      ],
      "text/plain": [
       "    nameFirst  nameLast  salary       OBP  G_1b\n",
       "17      Larry    Sheets   60000  0.323120     1\n",
       "173      Alan   Knicely   60000  0.322034     1\n",
       "94      Glenn     Davis   60000  0.332474    89\n",
       "116     Randy      Bush  120000  0.320755     1\n",
       "39      Daryl  Sconiers  130000  0.370690     6"
      ]
     },
     "execution_count": 244,
     "metadata": {},
     "output_type": "execute_result"
    }
   ],
   "source": [
    "df1b = df1[['nameFirst', 'nameLast', 'salary', 'OBP', 'G_1b']]\n",
    "df1b = df1b[df1b['G_1b'] > 0]\n",
    "df1b.sort('salary').head()"
   ]
  },
  {
   "cell_type": "code",
   "execution_count": 245,
   "metadata": {
    "collapsed": false
   },
   "outputs": [
    {
     "data": {
      "text/html": [
       "<div>\n",
       "<table border=\"1\" class=\"dataframe\">\n",
       "  <thead>\n",
       "    <tr style=\"text-align: right;\">\n",
       "      <th></th>\n",
       "      <th>nameFirst</th>\n",
       "      <th>nameLast</th>\n",
       "      <th>salary</th>\n",
       "      <th>OBP</th>\n",
       "      <th>G_2b</th>\n",
       "    </tr>\n",
       "  </thead>\n",
       "  <tbody>\n",
       "    <tr>\n",
       "      <th>124</th>\n",
       "      <td>Tim</td>\n",
       "      <td>Teufel</td>\n",
       "      <td>110000</td>\n",
       "      <td>0.335378</td>\n",
       "      <td>137</td>\n",
       "    </tr>\n",
       "    <tr>\n",
       "      <th>62</th>\n",
       "      <td>Tom</td>\n",
       "      <td>Foley</td>\n",
       "      <td>117500</td>\n",
       "      <td>0.321637</td>\n",
       "      <td>18</td>\n",
       "    </tr>\n",
       "    <tr>\n",
       "      <th>18</th>\n",
       "      <td>John</td>\n",
       "      <td>Shelby</td>\n",
       "      <td>130000</td>\n",
       "      <td>0.306604</td>\n",
       "      <td>1</td>\n",
       "    </tr>\n",
       "    <tr>\n",
       "      <th>244</th>\n",
       "      <td>Wayne</td>\n",
       "      <td>Tolleson</td>\n",
       "      <td>135000</td>\n",
       "      <td>0.352601</td>\n",
       "      <td>29</td>\n",
       "    </tr>\n",
       "    <tr>\n",
       "      <th>77</th>\n",
       "      <td>Brook</td>\n",
       "      <td>Jacoby</td>\n",
       "      <td>140000</td>\n",
       "      <td>0.323752</td>\n",
       "      <td>1</td>\n",
       "    </tr>\n",
       "  </tbody>\n",
       "</table>\n",
       "</div>"
      ],
      "text/plain": [
       "    nameFirst  nameLast  salary       OBP  G_2b\n",
       "124       Tim    Teufel  110000  0.335378   137\n",
       "62        Tom     Foley  117500  0.321637    18\n",
       "18       John    Shelby  130000  0.306604     1\n",
       "244     Wayne  Tolleson  135000  0.352601    29\n",
       "77      Brook    Jacoby  140000  0.323752     1"
      ]
     },
     "execution_count": 245,
     "metadata": {},
     "output_type": "execute_result"
    }
   ],
   "source": [
    "df2b = df1[['nameFirst', 'nameLast', 'salary', 'OBP', 'G_2b']]\n",
    "df2b = df2b[df2b['G_2b'] > 0]\n",
    "df2b.sort('salary').head()"
   ]
  },
  {
   "cell_type": "code",
   "execution_count": 246,
   "metadata": {
    "collapsed": false
   },
   "outputs": [
    {
     "data": {
      "text/html": [
       "<div>\n",
       "<table border=\"1\" class=\"dataframe\">\n",
       "  <thead>\n",
       "    <tr style=\"text-align: right;\">\n",
       "      <th></th>\n",
       "      <th>nameFirst</th>\n",
       "      <th>nameLast</th>\n",
       "      <th>salary</th>\n",
       "      <th>OBP</th>\n",
       "      <th>G_ss</th>\n",
       "    </tr>\n",
       "  </thead>\n",
       "  <tbody>\n",
       "    <tr>\n",
       "      <th>144</th>\n",
       "      <td>Bob</td>\n",
       "      <td>Meacham</td>\n",
       "      <td>100000</td>\n",
       "      <td>0.302026</td>\n",
       "      <td>155</td>\n",
       "    </tr>\n",
       "    <tr>\n",
       "      <th>202</th>\n",
       "      <td>Spike</td>\n",
       "      <td>Owen</td>\n",
       "      <td>114400</td>\n",
       "      <td>0.322165</td>\n",
       "      <td>117</td>\n",
       "    </tr>\n",
       "    <tr>\n",
       "      <th>62</th>\n",
       "      <td>Tom</td>\n",
       "      <td>Foley</td>\n",
       "      <td>117500</td>\n",
       "      <td>0.321637</td>\n",
       "      <td>15</td>\n",
       "    </tr>\n",
       "    <tr>\n",
       "      <th>63</th>\n",
       "      <td>Tom</td>\n",
       "      <td>Foley</td>\n",
       "      <td>117500</td>\n",
       "      <td>0.321637</td>\n",
       "      <td>45</td>\n",
       "    </tr>\n",
       "    <tr>\n",
       "      <th>249</th>\n",
       "      <td>Tony</td>\n",
       "      <td>Fernandez</td>\n",
       "      <td>127500</td>\n",
       "      <td>0.340426</td>\n",
       "      <td>160</td>\n",
       "    </tr>\n",
       "  </tbody>\n",
       "</table>\n",
       "</div>"
      ],
      "text/plain": [
       "    nameFirst   nameLast  salary       OBP  G_ss\n",
       "144       Bob    Meacham  100000  0.302026   155\n",
       "202     Spike       Owen  114400  0.322165   117\n",
       "62        Tom      Foley  117500  0.321637    15\n",
       "63        Tom      Foley  117500  0.321637    45\n",
       "249      Tony  Fernandez  127500  0.340426   160"
      ]
     },
     "execution_count": 246,
     "metadata": {},
     "output_type": "execute_result"
    }
   ],
   "source": [
    "dfss = df1[['nameFirst', 'nameLast', 'salary', 'OBP', 'G_ss']]\n",
    "dfss = dfss[dfss['G_ss'] > 0]\n",
    "dfss.sort('salary').head()"
   ]
  },
  {
   "cell_type": "code",
   "execution_count": 247,
   "metadata": {
    "collapsed": false
   },
   "outputs": [
    {
     "data": {
      "text/html": [
       "<div>\n",
       "<table border=\"1\" class=\"dataframe\">\n",
       "  <thead>\n",
       "    <tr style=\"text-align: right;\">\n",
       "      <th></th>\n",
       "      <th>nameFirst</th>\n",
       "      <th>nameLast</th>\n",
       "      <th>salary</th>\n",
       "      <th>OBP</th>\n",
       "      <th>G_3b</th>\n",
       "    </tr>\n",
       "  </thead>\n",
       "  <tbody>\n",
       "    <tr>\n",
       "      <th>208</th>\n",
       "      <td>Chris</td>\n",
       "      <td>Brown</td>\n",
       "      <td>60000</td>\n",
       "      <td>0.345114</td>\n",
       "      <td>120</td>\n",
       "    </tr>\n",
       "    <tr>\n",
       "      <th>205</th>\n",
       "      <td>Jim</td>\n",
       "      <td>Presley</td>\n",
       "      <td>71600</td>\n",
       "      <td>0.323718</td>\n",
       "      <td>154</td>\n",
       "    </tr>\n",
       "    <tr>\n",
       "      <th>62</th>\n",
       "      <td>Tom</td>\n",
       "      <td>Foley</td>\n",
       "      <td>117500</td>\n",
       "      <td>0.321637</td>\n",
       "      <td>1</td>\n",
       "    </tr>\n",
       "    <tr>\n",
       "      <th>14</th>\n",
       "      <td>Floyd</td>\n",
       "      <td>Rayford</td>\n",
       "      <td>128500</td>\n",
       "      <td>0.324324</td>\n",
       "      <td>78</td>\n",
       "    </tr>\n",
       "    <tr>\n",
       "      <th>244</th>\n",
       "      <td>Wayne</td>\n",
       "      <td>Tolleson</td>\n",
       "      <td>135000</td>\n",
       "      <td>0.352601</td>\n",
       "      <td>11</td>\n",
       "    </tr>\n",
       "  </tbody>\n",
       "</table>\n",
       "</div>"
      ],
      "text/plain": [
       "    nameFirst  nameLast  salary       OBP  G_3b\n",
       "208     Chris     Brown   60000  0.345114   120\n",
       "205       Jim   Presley   71600  0.323718   154\n",
       "62        Tom     Foley  117500  0.321637     1\n",
       "14      Floyd   Rayford  128500  0.324324    78\n",
       "244     Wayne  Tolleson  135000  0.352601    11"
      ]
     },
     "execution_count": 247,
     "metadata": {},
     "output_type": "execute_result"
    }
   ],
   "source": [
    "df3b = df1[['nameFirst', 'nameLast', 'salary', 'OBP', 'G_3b']]\n",
    "df3b = df3b[df3b['G_3b'] > 0]\n",
    "df3b.sort('salary').head()"
   ]
  },
  {
   "cell_type": "code",
   "execution_count": 248,
   "metadata": {
    "collapsed": false
   },
   "outputs": [
    {
     "data": {
      "text/html": [
       "<div>\n",
       "<table border=\"1\" class=\"dataframe\">\n",
       "  <thead>\n",
       "    <tr style=\"text-align: right;\">\n",
       "      <th></th>\n",
       "      <th>nameFirst</th>\n",
       "      <th>nameLast</th>\n",
       "      <th>salary</th>\n",
       "      <th>OBP</th>\n",
       "      <th>G_lf</th>\n",
       "    </tr>\n",
       "  </thead>\n",
       "  <tbody>\n",
       "    <tr>\n",
       "      <th>17</th>\n",
       "      <td>Larry</td>\n",
       "      <td>Sheets</td>\n",
       "      <td>60000</td>\n",
       "      <td>0.323120</td>\n",
       "      <td>1</td>\n",
       "    </tr>\n",
       "    <tr>\n",
       "      <th>222</th>\n",
       "      <td>Vince</td>\n",
       "      <td>Coleman</td>\n",
       "      <td>60000</td>\n",
       "      <td>0.320233</td>\n",
       "      <td>138</td>\n",
       "    </tr>\n",
       "    <tr>\n",
       "      <th>184</th>\n",
       "      <td>Joe</td>\n",
       "      <td>Orsulak</td>\n",
       "      <td>60000</td>\n",
       "      <td>0.341920</td>\n",
       "      <td>41</td>\n",
       "    </tr>\n",
       "    <tr>\n",
       "      <th>116</th>\n",
       "      <td>Randy</td>\n",
       "      <td>Bush</td>\n",
       "      <td>120000</td>\n",
       "      <td>0.320755</td>\n",
       "      <td>39</td>\n",
       "    </tr>\n",
       "    <tr>\n",
       "      <th>19</th>\n",
       "      <td>Mike</td>\n",
       "      <td>Young</td>\n",
       "      <td>121000</td>\n",
       "      <td>0.347913</td>\n",
       "      <td>83</td>\n",
       "    </tr>\n",
       "  </tbody>\n",
       "</table>\n",
       "</div>"
      ],
      "text/plain": [
       "    nameFirst nameLast  salary       OBP  G_lf\n",
       "17      Larry   Sheets   60000  0.323120     1\n",
       "222     Vince  Coleman   60000  0.320233   138\n",
       "184       Joe  Orsulak   60000  0.341920    41\n",
       "116     Randy     Bush  120000  0.320755    39\n",
       "19       Mike    Young  121000  0.347913    83"
      ]
     },
     "execution_count": 248,
     "metadata": {},
     "output_type": "execute_result"
    }
   ],
   "source": [
    "dflf = df1[['nameFirst', 'nameLast', 'salary', 'OBP', 'G_lf']]\n",
    "dflf = dflf[dflf['G_lf'] > 0]\n",
    "dflf.sort('salary').head()"
   ]
  },
  {
   "cell_type": "code",
   "execution_count": 249,
   "metadata": {
    "collapsed": false
   },
   "outputs": [
    {
     "data": {
      "text/html": [
       "<div>\n",
       "<table border=\"1\" class=\"dataframe\">\n",
       "  <thead>\n",
       "    <tr style=\"text-align: right;\">\n",
       "      <th></th>\n",
       "      <th>nameFirst</th>\n",
       "      <th>nameLast</th>\n",
       "      <th>salary</th>\n",
       "      <th>OBP</th>\n",
       "      <th>G_cf</th>\n",
       "    </tr>\n",
       "  </thead>\n",
       "  <tbody>\n",
       "    <tr>\n",
       "      <th>222</th>\n",
       "      <td>Vince</td>\n",
       "      <td>Coleman</td>\n",
       "      <td>60000</td>\n",
       "      <td>0.320233</td>\n",
       "      <td>17</td>\n",
       "    </tr>\n",
       "    <tr>\n",
       "      <th>240</th>\n",
       "      <td>Oddibe</td>\n",
       "      <td>McDowell</td>\n",
       "      <td>60000</td>\n",
       "      <td>0.304251</td>\n",
       "      <td>103</td>\n",
       "    </tr>\n",
       "    <tr>\n",
       "      <th>184</th>\n",
       "      <td>Joe</td>\n",
       "      <td>Orsulak</td>\n",
       "      <td>60000</td>\n",
       "      <td>0.341920</td>\n",
       "      <td>72</td>\n",
       "    </tr>\n",
       "    <tr>\n",
       "      <th>198</th>\n",
       "      <td>Phil</td>\n",
       "      <td>Bradley</td>\n",
       "      <td>125000</td>\n",
       "      <td>0.364789</td>\n",
       "      <td>29</td>\n",
       "    </tr>\n",
       "    <tr>\n",
       "      <th>38</th>\n",
       "      <td>Gary</td>\n",
       "      <td>Pettis</td>\n",
       "      <td>125000</td>\n",
       "      <td>0.347140</td>\n",
       "      <td>122</td>\n",
       "    </tr>\n",
       "  </tbody>\n",
       "</table>\n",
       "</div>"
      ],
      "text/plain": [
       "    nameFirst  nameLast  salary       OBP  G_cf\n",
       "222     Vince   Coleman   60000  0.320233    17\n",
       "240    Oddibe  McDowell   60000  0.304251   103\n",
       "184       Joe   Orsulak   60000  0.341920    72\n",
       "198      Phil   Bradley  125000  0.364789    29\n",
       "38       Gary    Pettis  125000  0.347140   122"
      ]
     },
     "execution_count": 249,
     "metadata": {},
     "output_type": "execute_result"
    }
   ],
   "source": [
    "dfcf = df1[['nameFirst', 'nameLast', 'salary', 'OBP', 'G_cf']]\n",
    "dfcf = dfcf[dfcf['G_cf'] > 0]\n",
    "dfcf.sort('salary').head()"
   ]
  },
  {
   "cell_type": "code",
   "execution_count": 250,
   "metadata": {
    "collapsed": false
   },
   "outputs": [
    {
     "data": {
      "text/html": [
       "<div>\n",
       "<table border=\"1\" class=\"dataframe\">\n",
       "  <thead>\n",
       "    <tr style=\"text-align: right;\">\n",
       "      <th></th>\n",
       "      <th>nameFirst</th>\n",
       "      <th>nameLast</th>\n",
       "      <th>salary</th>\n",
       "      <th>OBP</th>\n",
       "      <th>G_rf</th>\n",
       "    </tr>\n",
       "  </thead>\n",
       "  <tbody>\n",
       "    <tr>\n",
       "      <th>184</th>\n",
       "      <td>Joe</td>\n",
       "      <td>Orsulak</td>\n",
       "      <td>60000</td>\n",
       "      <td>0.341920</td>\n",
       "      <td>16</td>\n",
       "    </tr>\n",
       "    <tr>\n",
       "      <th>94</th>\n",
       "      <td>Glenn</td>\n",
       "      <td>Davis</td>\n",
       "      <td>60000</td>\n",
       "      <td>0.332474</td>\n",
       "      <td>9</td>\n",
       "    </tr>\n",
       "    <tr>\n",
       "      <th>17</th>\n",
       "      <td>Larry</td>\n",
       "      <td>Sheets</td>\n",
       "      <td>60000</td>\n",
       "      <td>0.323120</td>\n",
       "      <td>8</td>\n",
       "    </tr>\n",
       "    <tr>\n",
       "      <th>222</th>\n",
       "      <td>Vince</td>\n",
       "      <td>Coleman</td>\n",
       "      <td>60000</td>\n",
       "      <td>0.320233</td>\n",
       "      <td>10</td>\n",
       "    </tr>\n",
       "    <tr>\n",
       "      <th>116</th>\n",
       "      <td>Randy</td>\n",
       "      <td>Bush</td>\n",
       "      <td>120000</td>\n",
       "      <td>0.320755</td>\n",
       "      <td>4</td>\n",
       "    </tr>\n",
       "  </tbody>\n",
       "</table>\n",
       "</div>"
      ],
      "text/plain": [
       "    nameFirst nameLast  salary       OBP  G_rf\n",
       "184       Joe  Orsulak   60000  0.341920    16\n",
       "94      Glenn    Davis   60000  0.332474     9\n",
       "17      Larry   Sheets   60000  0.323120     8\n",
       "222     Vince  Coleman   60000  0.320233    10\n",
       "116     Randy     Bush  120000  0.320755     4"
      ]
     },
     "execution_count": 250,
     "metadata": {},
     "output_type": "execute_result"
    }
   ],
   "source": [
    "dfrf = df1[['nameFirst', 'nameLast', 'salary', 'OBP', 'G_rf']]\n",
    "dfrf = dfrf[dfrf['G_rf'] > 0]\n",
    "dfrf.sort('salary').head()"
   ]
  },
  {
   "cell_type": "code",
   "execution_count": 251,
   "metadata": {
    "collapsed": false
   },
   "outputs": [
    {
     "data": {
      "text/html": [
       "<div>\n",
       "<table border=\"1\" class=\"dataframe\">\n",
       "  <thead>\n",
       "    <tr style=\"text-align: right;\">\n",
       "      <th></th>\n",
       "      <th>nameFirst</th>\n",
       "      <th>nameLast</th>\n",
       "      <th>salary</th>\n",
       "      <th>OBP</th>\n",
       "      <th>G_p</th>\n",
       "    </tr>\n",
       "  </thead>\n",
       "  <tbody>\n",
       "  </tbody>\n",
       "</table>\n",
       "</div>"
      ],
      "text/plain": [
       "Empty DataFrame\n",
       "Columns: [nameFirst, nameLast, salary, OBP, G_p]\n",
       "Index: []"
      ]
     },
     "execution_count": 251,
     "metadata": {},
     "output_type": "execute_result"
    }
   ],
   "source": [
    "dfpitcher = df1[['nameFirst', 'nameLast', 'salary', 'OBP', 'G_p']]\n",
    "dfpitcher = dfpitcher[dfpitcher['G_p'] > 0]\n",
    "dfpitcher.sort('salary').head()"
   ]
  },
  {
   "cell_type": "code",
   "execution_count": null,
   "metadata": {
    "collapsed": true
   },
   "outputs": [],
   "source": []
  }
 ],
 "metadata": {
  "kernelspec": {
   "display_name": "Python 3",
   "language": "python",
   "name": "python3"
  },
  "language_info": {
   "codemirror_mode": {
    "name": "ipython",
    "version": 3
   },
   "file_extension": ".py",
   "mimetype": "text/x-python",
   "name": "python",
   "nbconvert_exporter": "python",
   "pygments_lexer": "ipython3",
   "version": "3.4.3"
  }
 },
 "nbformat": 4,
 "nbformat_minor": 0
}
