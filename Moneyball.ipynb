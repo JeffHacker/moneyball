{
 "cells": [
  {
   "cell_type": "code",
   "execution_count": 44,
   "metadata": {
    "collapsed": false
   },
   "outputs": [],
   "source": [
    "import pandas as pd\n",
    "import matplotlib as plt\n",
    "import scipy as sp\n",
    "%matplotlib inline"
   ]
  },
  {
   "cell_type": "code",
   "execution_count": 45,
   "metadata": {
    "collapsed": false
   },
   "outputs": [],
   "source": [
    "batting = pd.read_csv(\"data/Batting.csv\")\n",
    "battingpost = pd.read_csv(\"data/BattingPost.csv\")"
   ]
  },
  {
   "cell_type": "code",
   "execution_count": 46,
   "metadata": {
    "collapsed": false
   },
   "outputs": [
    {
     "name": "stdout",
     "output_type": "stream",
     "text": [
      "<class 'pandas.core.frame.DataFrame'>\n",
      "Int64Index: 99846 entries, 0 to 99845\n",
      "Data columns (total 22 columns):\n",
      "playerID    99846 non-null object\n",
      "yearID      99846 non-null int64\n",
      "stint       99846 non-null int64\n",
      "teamID      99846 non-null object\n",
      "lgID        99109 non-null object\n",
      "G           99846 non-null int64\n",
      "AB          94697 non-null float64\n",
      "R           94697 non-null float64\n",
      "H           94697 non-null float64\n",
      "2B          94697 non-null float64\n",
      "3B          94697 non-null float64\n",
      "HR          94697 non-null float64\n",
      "RBI         94273 non-null float64\n",
      "SB          93397 non-null float64\n",
      "CS          71243 non-null float64\n",
      "BB          94697 non-null float64\n",
      "SO          86859 non-null float64\n",
      "IBB         58134 non-null float64\n",
      "HBP         91887 non-null float64\n",
      "SH          88359 non-null float64\n",
      "SF          58665 non-null float64\n",
      "GIDP        68589 non-null float64\n",
      "dtypes: float64(16), int64(3), object(3)\n",
      "memory usage: 17.5+ MB\n"
     ]
    }
   ],
   "source": [
    "batting.info()"
   ]
  },
  {
   "cell_type": "code",
   "execution_count": 47,
   "metadata": {
    "collapsed": false
   },
   "outputs": [
    {
     "name": "stdout",
     "output_type": "stream",
     "text": [
      "<class 'pandas.core.frame.DataFrame'>\n",
      "Int64Index: 11294 entries, 0 to 11293\n",
      "Data columns (total 22 columns):\n",
      "yearID      11294 non-null int64\n",
      "round       11294 non-null object\n",
      "playerID    11294 non-null object\n",
      "teamID      11294 non-null object\n",
      "lgID        11294 non-null object\n",
      "G           11294 non-null int64\n",
      "AB          11294 non-null int64\n",
      "R           11294 non-null int64\n",
      "H           11294 non-null int64\n",
      "2B          11294 non-null int64\n",
      "3B          11294 non-null int64\n",
      "HR          11294 non-null int64\n",
      "RBI         11294 non-null int64\n",
      "SB          11294 non-null int64\n",
      "CS          11093 non-null float64\n",
      "BB          11294 non-null int64\n",
      "SO          11294 non-null int64\n",
      "IBB         10255 non-null float64\n",
      "HBP         10057 non-null float64\n",
      "SH          10050 non-null float64\n",
      "SF          10046 non-null float64\n",
      "GIDP        10089 non-null float64\n",
      "dtypes: float64(6), int64(12), object(4)\n",
      "memory usage: 2.0+ MB\n"
     ]
    }
   ],
   "source": [
    "battingpost.info()"
   ]
  },
  {
   "cell_type": "code",
   "execution_count": 48,
   "metadata": {
    "collapsed": true
   },
   "outputs": [],
   "source": [
    "fielding = pd.read_csv(\"data/Fielding.csv\")\n",
    "fieldingOF = pd.read_csv(\"data/FieldingOF.csv\")\n",
    "fieldingpost = pd.read_csv(\"data/FieldingPost.csv\")"
   ]
  },
  {
   "cell_type": "code",
   "execution_count": 49,
   "metadata": {
    "collapsed": false
   },
   "outputs": [
    {
     "name": "stdout",
     "output_type": "stream",
     "text": [
      "<class 'pandas.core.frame.DataFrame'>\n",
      "Int64Index: 167938 entries, 0 to 167937\n",
      "Data columns (total 18 columns):\n",
      "playerID    167938 non-null object\n",
      "yearID      167938 non-null int64\n",
      "stint       167938 non-null int64\n",
      "teamID      167938 non-null object\n",
      "lgID        166435 non-null object\n",
      "POS         167938 non-null object\n",
      "G           167938 non-null int64\n",
      "GS          75849 non-null float64\n",
      "InnOuts     102313 non-null float64\n",
      "PO          154477 non-null float64\n",
      "A           154476 non-null float64\n",
      "E           154475 non-null float64\n",
      "DP          154476 non-null float64\n",
      "PB          10999 non-null float64\n",
      "WP          4189 non-null float64\n",
      "SB          5907 non-null float64\n",
      "CS          5907 non-null float64\n",
      "ZR          4189 non-null float64\n",
      "dtypes: float64(11), int64(3), object(4)\n",
      "memory usage: 24.3+ MB\n"
     ]
    }
   ],
   "source": [
    "fielding.info()"
   ]
  },
  {
   "cell_type": "code",
   "execution_count": 50,
   "metadata": {
    "collapsed": false
   },
   "outputs": [
    {
     "name": "stdout",
     "output_type": "stream",
     "text": [
      "<class 'pandas.core.frame.DataFrame'>\n",
      "Int64Index: 12028 entries, 0 to 12027\n",
      "Data columns (total 6 columns):\n",
      "playerID    12028 non-null object\n",
      "yearID      12028 non-null int64\n",
      "stint       12028 non-null int64\n",
      "Glf         11991 non-null float64\n",
      "Gcf         11991 non-null float64\n",
      "Grf         11985 non-null float64\n",
      "dtypes: float64(3), int64(2), object(1)\n",
      "memory usage: 657.8+ KB\n"
     ]
    }
   ],
   "source": [
    "fieldingOF.info()"
   ]
  },
  {
   "cell_type": "code",
   "execution_count": 51,
   "metadata": {
    "collapsed": false
   },
   "outputs": [
    {
     "name": "stdout",
     "output_type": "stream",
     "text": [
      "<class 'pandas.core.frame.DataFrame'>\n",
      "Int64Index: 11924 entries, 0 to 11923\n",
      "Data columns (total 17 columns):\n",
      "playerID    11924 non-null object\n",
      "yearID      11924 non-null int64\n",
      "teamID      11924 non-null object\n",
      "lgID        11924 non-null object\n",
      "round       11924 non-null object\n",
      "POS         11924 non-null object\n",
      "G           11924 non-null int64\n",
      "GS          11924 non-null int64\n",
      "InnOuts     11603 non-null float64\n",
      "PO          11924 non-null int64\n",
      "A           11924 non-null int64\n",
      "E           11924 non-null int64\n",
      "DP          11924 non-null int64\n",
      "TP          11924 non-null int64\n",
      "PB          1322 non-null float64\n",
      "SB          5555 non-null float64\n",
      "CS          5555 non-null float64\n",
      "dtypes: float64(4), int64(8), object(5)\n",
      "memory usage: 1.6+ MB\n"
     ]
    }
   ],
   "source": [
    "fieldingpost.info()"
   ]
  },
  {
   "cell_type": "code",
   "execution_count": 52,
   "metadata": {
    "collapsed": true
   },
   "outputs": [],
   "source": [
    "master = pd.read_csv(\"data/Master.csv\")\n",
    "salaries = pd.read_csv(\"data/Salaries.csv\")"
   ]
  },
  {
   "cell_type": "code",
   "execution_count": 53,
   "metadata": {
    "collapsed": false
   },
   "outputs": [
    {
     "name": "stdout",
     "output_type": "stream",
     "text": [
      "<class 'pandas.core.frame.DataFrame'>\n",
      "Int64Index: 18589 entries, 0 to 18588\n",
      "Data columns (total 24 columns):\n",
      "playerID        18589 non-null object\n",
      "birthYear       18444 non-null float64\n",
      "birthMonth      18274 non-null float64\n",
      "birthDay        18117 non-null float64\n",
      "birthCountry    18516 non-null object\n",
      "birthState      17975 non-null object\n",
      "birthCity       18389 non-null object\n",
      "deathYear       9225 non-null float64\n",
      "deathMonth      9224 non-null float64\n",
      "deathDay        9223 non-null float64\n",
      "deathCountry    9223 non-null object\n",
      "deathState      9169 non-null object\n",
      "deathCity       9219 non-null object\n",
      "nameFirst       18549 non-null object\n",
      "nameLast        18589 non-null object\n",
      "nameGiven       18549 non-null object\n",
      "weight          17717 non-null float64\n",
      "height          17780 non-null float64\n",
      "bats            17399 non-null object\n",
      "throws          17610 non-null object\n",
      "debut           18399 non-null object\n",
      "finalGame       18399 non-null object\n",
      "retroID         18535 non-null object\n",
      "bbrefID         18588 non-null object\n",
      "dtypes: float64(8), object(16)\n",
      "memory usage: 3.5+ MB\n"
     ]
    }
   ],
   "source": [
    "master.info()"
   ]
  },
  {
   "cell_type": "code",
   "execution_count": 54,
   "metadata": {
    "collapsed": false
   },
   "outputs": [
    {
     "name": "stdout",
     "output_type": "stream",
     "text": [
      "<class 'pandas.core.frame.DataFrame'>\n",
      "Int64Index: 24758 entries, 0 to 24757\n",
      "Data columns (total 5 columns):\n",
      "yearID      24758 non-null int64\n",
      "teamID      24758 non-null object\n",
      "lgID        24758 non-null object\n",
      "playerID    24758 non-null object\n",
      "salary      24758 non-null int64\n",
      "dtypes: int64(2), object(3)\n",
      "memory usage: 1.1+ MB\n"
     ]
    }
   ],
   "source": [
    "salaries.info()"
   ]
  },
  {
   "cell_type": "code",
   "execution_count": null,
   "metadata": {
    "collapsed": true
   },
   "outputs": [],
   "source": []
  },
  {
   "cell_type": "code",
   "execution_count": null,
   "metadata": {
    "collapsed": true
   },
   "outputs": [],
   "source": []
  }
 ],
 "metadata": {
  "kernelspec": {
   "display_name": "Python 3",
   "language": "python",
   "name": "python3"
  },
  "language_info": {
   "codemirror_mode": {
    "name": "ipython",
    "version": 3
   },
   "file_extension": ".py",
   "mimetype": "text/x-python",
   "name": "python",
   "nbconvert_exporter": "python",
   "pygments_lexer": "ipython3",
   "version": "3.4.3"
  }
 },
 "nbformat": 4,
 "nbformat_minor": 0
}
